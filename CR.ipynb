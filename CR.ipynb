{
 "cells": [
  {
   "cell_type": "markdown",
   "id": "1e51b2b8",
   "metadata": {},
   "source": [
    "### <p style=\"font-family:JetBrains Mono; font-weight:bold; letter-spacing: 2px; color:#294B8E; font-size:140%; text-align:left;padding: 0px; border-bottom: 3px solid #294B8E\">Сoefficient recovery</p>"
   ]
  },
  {
   "cell_type": "markdown",
   "id": "84d049cd",
   "metadata": {},
   "source": [
    "It is necessary to restore the coefficients of the function f(x), knowing its values on a certain set of points.\n",
    "\n",
    "At the same time, it is known that\n",
    "$$f(x) = ((a + \\varepsilon_{a})sinx + (b + \\varepsilon_{b})lnx)^2 + (c + \\varepsilon_{c})x^2,$$\n",
    "where $\\varepsilon_{i}$ are random variables that take values from the interval $[-0.001, 0.001];$ $a,b,c$ are unknown positive constants to be found (the absolute error should not exceed $10^{ -2}$.\n",
    "\n",
    "Print 3 space-separated real numbers with precision 2 significant digits after the decimal point, which correspond to the set a,b,c."
   ]
  },
  {
   "cell_type": "markdown",
   "id": "57c78ab5",
   "metadata": {},
   "source": [
    "### <p style=\"font-family:JetBrains Mono; font-weight:bold; letter-spacing: 2px; color:#294B8E; font-size:140%; text-align:left;padding: 0px; border-bottom: 3px solid #294B8E\">Solution</p>"
   ]
  },
  {
   "cell_type": "markdown",
   "id": "f66fded5",
   "metadata": {},
   "source": [
    "Let's open the brackets\n",
    "$$f(x) = a^2sin^2x + 2absinxlnx + b^2ln^2x + cx^2.$$\n",
    "\n",
    "Features are: $$sin^2x, sinxlnx, ln^2x, x^2.$$\n",
    "Let's find a solution to the problem using linear regression. The solution to the problem will look like this:\n",
    "$$f(x) = b_{1}sin^2x + b_{2}sinxlnx + b_{3}ln^2x + b_{4}x^2.$$\n",
    "\n",
    "Hence, $$a = \\sqrt b_{1}, b = \\sqrt b_{3}, c = b_{4}.$$"
   ]
  },
  {
   "cell_type": "code",
   "execution_count": 1,
   "id": "82f0bd85",
   "metadata": {},
   "outputs": [],
   "source": [
    "import re\n",
    "import math\n",
    "from sklearn.linear_model import LinearRegression"
   ]
  },
  {
   "cell_type": "code",
   "execution_count": 2,
   "id": "f93e8ab3",
   "metadata": {
    "scrolled": false
   },
   "outputs": [],
   "source": [
    "x = []\n",
    "y = []\n",
    "\n",
    "for line in open('data.csv'):\n",
    "    x.append(re.split(\";|,|\\n\", line[:-1])[0])\n",
    "    y.append(re.split(\";|,|\\n\", line[:-1])[1])"
   ]
  },
  {
   "cell_type": "code",
   "execution_count": 3,
   "id": "a45caa54",
   "metadata": {},
   "outputs": [],
   "source": [
    "x = [float(item) for item in x]\n",
    "y = [float(item) for item in y]"
   ]
  },
  {
   "cell_type": "code",
   "execution_count": 4,
   "id": "ffad16e2",
   "metadata": {},
   "outputs": [],
   "source": [
    "features = []\n",
    "for i in x:\n",
    "    curFeatures = [\n",
    "        math.sin(i) ** 2,              # a^2\n",
    "        math.log(i) ** 2,              # b^2\n",
    "        math.sin(i) * math.log(i),    # 2ab\n",
    "        i ** 2                         # c\n",
    "    ]\n",
    "    features.append(curFeatures)\n"
   ]
  },
  {
   "cell_type": "code",
   "execution_count": 5,
   "id": "90d2b642",
   "metadata": {},
   "outputs": [
    {
     "data": {
      "text/plain": [
       "LinearRegression()"
      ]
     },
     "execution_count": 5,
     "metadata": {},
     "output_type": "execute_result"
    }
   ],
   "source": [
    "linearModel = LinearRegression()\n",
    "linearModel.fit(features, y)"
   ]
  },
  {
   "cell_type": "code",
   "execution_count": 6,
   "id": "19b618f7",
   "metadata": {},
   "outputs": [],
   "source": [
    "coeffs = linearModel.coef_"
   ]
  },
  {
   "cell_type": "code",
   "execution_count": 7,
   "id": "8268706d",
   "metadata": {},
   "outputs": [],
   "source": [
    "a = math.sqrt(coeffs[0])\n",
    "b = math.sqrt(coeffs[1])\n",
    "c = coeffs[3]"
   ]
  },
  {
   "cell_type": "code",
   "execution_count": 9,
   "id": "ed48c772",
   "metadata": {},
   "outputs": [
    {
     "name": "stdout",
     "output_type": "stream",
     "text": [
      "Problem solving: a =  3.14 b =  2.72 c =  4.0\n"
     ]
    }
   ],
   "source": [
    "print('Problem solving:', 'a = ', round(a, 2), 'b = ', round(b, 2), 'c = ', round(c, 2))"
   ]
  },
  {
   "cell_type": "code",
   "execution_count": null,
   "id": "6aed4b7d",
   "metadata": {},
   "outputs": [],
   "source": []
  }
 ],
 "metadata": {
  "kernelspec": {
   "display_name": "Python 3 (ipykernel)",
   "language": "python",
   "name": "python3"
  },
  "language_info": {
   "codemirror_mode": {
    "name": "ipython",
    "version": 3
   },
   "file_extension": ".py",
   "mimetype": "text/x-python",
   "name": "python",
   "nbconvert_exporter": "python",
   "pygments_lexer": "ipython3",
   "version": "3.9.13"
  }
 },
 "nbformat": 4,
 "nbformat_minor": 5
}
